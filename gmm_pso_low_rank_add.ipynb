{
 "cells": [
  {
   "cell_type": "code",
   "execution_count": 1,
   "metadata": {},
   "outputs": [],
   "source": [
    "# load cloud data\n",
    "import pandas as pd\n",
    "import numpy as np\n",
    "from sklearn.mixture import GaussianMixture\n",
    "from sklearn.mixture._gaussian_mixture import _compute_precision_cholesky\n",
    "import matplotlib.pyplot as plt"
   ]
  },
  {
   "cell_type": "markdown",
   "metadata": {},
   "source": [
    "### Loading Cloud dataset"
   ]
  },
  {
   "cell_type": "code",
   "execution_count": 2,
   "metadata": {},
   "outputs": [],
   "source": [
    "cloud_data_name = 'data/cloud.data'\n",
    "with open(cloud_data_name) as f:\n",
    "    cloud_data = pd.DataFrame([item.split() for item in f.readlines()])\n",
    "cloud_data = cloud_data.astype(float).to_numpy()"
   ]
  },
  {
   "cell_type": "code",
   "execution_count": 3,
   "metadata": {},
   "outputs": [],
   "source": [
    "from sklearn.preprocessing import MinMaxScaler\n",
    "scaler = MinMaxScaler()\n",
    "scaler.fit(cloud_data)\n",
    "cloud_data = scaler.transform(cloud_data)"
   ]
  },
  {
   "cell_type": "markdown",
   "metadata": {},
   "source": [
    "### Loading Breast Cancer"
   ]
  },
  {
   "cell_type": "code",
   "execution_count": 4,
   "metadata": {},
   "outputs": [],
   "source": [
    "bc_data_name = 'data/wdbc.data'\n",
    "with open(bc_data_name) as f:\n",
    "    data_bc = pd.DataFrame([item.split(',')[2:] for item in f.readlines()])\n",
    "data_bc = data_bc.astype(float).to_numpy()"
   ]
  },
  {
   "cell_type": "code",
   "execution_count": 5,
   "metadata": {},
   "outputs": [],
   "source": [
    "from sklearn.preprocessing import MinMaxScaler\n",
    "scaler = MinMaxScaler()\n",
    "scaler.fit(data_bc)\n",
    "data_bc = scaler.transform(data_bc)"
   ]
  },
  {
   "cell_type": "code",
   "execution_count": 6,
   "metadata": {},
   "outputs": [
    {
     "data": {
      "text/plain": [
       "(569, 30)"
      ]
     },
     "execution_count": 6,
     "metadata": {},
     "output_type": "execute_result"
    }
   ],
   "source": [
    "data_bc.shape"
   ]
  },
  {
   "cell_type": "markdown",
   "metadata": {},
   "source": [
    "### Loading LandSat Satelite"
   ]
  },
  {
   "cell_type": "code",
   "execution_count": 3,
   "metadata": {},
   "outputs": [],
   "source": [
    "sat_trn_data_name = 'data/sat.trn'\n",
    "\n",
    "with open(sat_trn_data_name) as f:\n",
    "    data_sat_trn = pd.DataFrame([item.split(' ')[:36] for item in f.readlines()])\n",
    "data_sat_trn = data_sat_trn.astype(float).to_numpy()\n",
    "\n",
    "sat_tst_data_name = 'data/sat.tst'\n",
    "with open(sat_tst_data_name) as f:\n",
    "    data_sat_tst = pd.DataFrame([item.split(' ')[:36] for item in f.readlines()])\n",
    "data_sat_tst = data_sat_tst.astype(float).to_numpy()\n",
    "\n",
    "data_sat = np.concatenate([data_sat_trn, data_sat_tst], axis=0)\n"
   ]
  },
  {
   "cell_type": "code",
   "execution_count": 4,
   "metadata": {},
   "outputs": [],
   "source": [
    "from sklearn.preprocessing import MinMaxScaler\n",
    "scaler = MinMaxScaler()\n",
    "scaler.fit(data_sat)\n",
    "data_sat = scaler.transform(data_sat)"
   ]
  },
  {
   "cell_type": "markdown",
   "metadata": {},
   "source": [
    "### Helper methods"
   ]
  },
  {
   "cell_type": "code",
   "execution_count": 4,
   "metadata": {},
   "outputs": [
    {
     "data": {
      "text/plain": [
       "<Figure size 1600x1600 with 0 Axes>"
      ]
     },
     "metadata": {},
     "output_type": "display_data"
    }
   ],
   "source": [
    "from matplotlib.pyplot import figure\n",
    "\n",
    "figure(figsize=(20, 20), dpi=80)\n",
    "plt.rcParams[\"figure.figsize\"] = (20,20)\n",
    "\n",
    "def plot_particle_trajectories(trajectories, best_em):\n",
    "    for i in range(len(trajectories)):\n",
    "        plt.plot(list(range(len(trajectories[i]))), trajectories[i])\n",
    "    plt.plot(list(range(len(trajectories[i]))), [best_em for i in range(len(trajectories[i]))], linewidth=3, c='black')\n",
    "    plt.show()\n"
   ]
  },
  {
   "cell_type": "code",
   "execution_count": 28,
   "metadata": {},
   "outputs": [],
   "source": [
    "def reinit_gaussian(data, basic_means, basic_prec, n_components, rank, weights, delta_means, delta_diag, delta_rank_params):\n",
    "    means = basic_means + delta_means\n",
    "\n",
    "    prec_matr = basic_prec\n",
    "\n",
    "    cholesky = np.zeros_like(prec_matr)\n",
    "    \n",
    "    for i in range(n_components):\n",
    "\n",
    "        prec_matr[i] += np.diag(delta_diag[i] ** 2)\n",
    "\n",
    "        for k in range(rank):\n",
    "            prec_matr[i] += delta_rank_params[i][k] @ delta_rank_params[i][k].T\n",
    "\n",
    "        cholesky[i] = np.linalg.cholesky(prec_matr[i])\n",
    "\n",
    "    gmm_init = GaussianMixture(n_components=weights.shape[0], covariance_type='full', weights_init=weights, means_init=means, precisions_init=prec_matr)\n",
    "    gmm_init.fit(data)\n",
    "    return gmm_init.score(data)"
   ]
  },
  {
   "cell_type": "markdown",
   "metadata": {},
   "source": [
    "### PSO with low rank PD addition method for GMM"
   ]
  },
  {
   "cell_type": "code",
   "execution_count": 11,
   "metadata": {},
   "outputs": [],
   "source": [
    "def run_experiment_delta_parametrize(data, log_file_name, n_components=10, amplitude=0.05, rank=10, init_scale=1):\n",
    "    # write PSO and k means algo\n",
    "    n_particles = 50\n",
    "    max_i = 40\n",
    "    w = 0.5\n",
    "    r_1 = 0.6\n",
    "    r_2 = 0.8\n",
    "    r_1_chol = 0.42\n",
    "    r_2_chol = 0.57\n",
    "    r_1_w = 0.42\n",
    "    r_2_w = 0.57\n",
    "    data_dim = data.shape[1]\n",
    "\n",
    "    if rank > data_dim:\n",
    "        rank = data_dim\n",
    "\n",
    "    particle_trajectories = [[] for i in range(n_particles)]\n",
    "    \n",
    "    criterions = [0 for i in range(n_particles)]\n",
    "    from functools import partial\n",
    "    \n",
    "    with open(log_file_name, 'w+') as f:\n",
    "        \n",
    "            \n",
    "        v_weights = np.random.uniform(-1, 1, size=(n_particles, n_components))\n",
    "        v_delta_means = np.random.uniform(-1, 1, size=(n_particles, n_components, data_dim))\n",
    "        v_delta_diag_prec = np.random.uniform(-1, 1, size=(n_particles, n_components, data_dim))\n",
    "        v_delta_param_prec = np.random.uniform(-1, 1, size=(n_particles, n_components, rank, data_dim))\n",
    "\n",
    "        delta_means = np.zeros((n_particles, n_components, data_dim))\n",
    "        weights = np.zeros((n_particles, n_components))\n",
    "        delta_diag_prec = np.zeros((n_particles, n_components, data_dim))\n",
    "        delta_param_prec = np.zeros((n_particles, n_components, rank, data_dim))\n",
    "\n",
    "        # one BIG GMM init\n",
    "\n",
    "        gmm = GaussianMixture(n_components=n_components, covariance_type='full', init_params='random', n_init=100)\n",
    "        gmm.fit(data)\n",
    "        basic_score = gmm.score(data)\n",
    "        f.write(f'EM init {basic_score}')\n",
    "\n",
    "        base_chol = gmm.precisions_cholesky_\n",
    "\n",
    "        basic_prec = np.zeros_like(gmm.precisions_cholesky_)\n",
    "        for i in range(gmm.precisions_cholesky_.shape[0]):\n",
    "            basic_prec[i] = gmm.precisions_cholesky_[i] @ gmm.precisions_cholesky_[i].T\n",
    "\n",
    "        FB_base_chol = np.zeros_like(gmm.precisions_cholesky_)\n",
    "        for i in range(gmm.precisions_cholesky_.shape[0]):\n",
    "            FB_base_chol[i] = np.linalg.cholesky(basic_prec[i])\n",
    "\n",
    "\n",
    "        basic_means = gmm.means_\n",
    "\n",
    "        g_best_reinit = 0\n",
    "\n",
    "        def is_pos_def(x):\n",
    "            return np.all(np.linalg.eigvals(x) > 0)\n",
    "\n",
    "        def log_likelihood_gmm_parametrized(weights, delta_means, delta_diag, delta_rank_params):\n",
    "            means = basic_means + delta_means\n",
    "\n",
    "            prec_matr = basic_prec\n",
    "\n",
    "            cholesky = np.zeros_like(prec_matr)\n",
    "            \n",
    "            for i in range(n_components):\n",
    "\n",
    "                prec_matr[i] += np.diag(delta_diag[i] ** 2)\n",
    "\n",
    "                for k in range(rank):\n",
    "                    prec_matr[i] += delta_rank_params[i][k] @ delta_rank_params[i][k].T\n",
    "\n",
    "                cholesky[i] = np.linalg.cholesky(prec_matr[i])\n",
    "\n",
    "            gmm_init = GaussianMixture(n_components=weights.shape[0], covariance_type='full', weights_init=weights, means_init=means)\n",
    "            gmm_init.weights_ = weights\n",
    "            gmm_init.means_ = means\n",
    "            gmm_init.precisions_cholesky_ = cholesky\n",
    "            return gmm_init.score(data)\n",
    "\n",
    "        def reinit_gaussian(weights, delta_means, delta_diag, delta_rank_params):\n",
    "            means = basic_means + delta_means\n",
    "\n",
    "            prec_matr = basic_prec\n",
    "\n",
    "            cholesky = np.zeros_like(prec_matr)\n",
    "            \n",
    "            for i in range(n_components):\n",
    "\n",
    "                prec_matr[i] += np.diag(delta_diag[i] ** 2)\n",
    "\n",
    "                for k in range(rank):\n",
    "                    prec_matr[i] += delta_rank_params[i][k] @ delta_rank_params[i][k].T\n",
    "\n",
    "                cholesky[i] = np.linalg.cholesky(prec_matr[i])\n",
    "\n",
    "            gmm_init = GaussianMixture(n_components=weights.shape[0], covariance_type='full', weights_init=weights, means_init=means, precisions_init=prec_matr)\n",
    "            gmm_init.fit(data)\n",
    "            return gmm_init.score(data)\n",
    "\n",
    "        # randomly init delta\n",
    "        for i in range(n_particles):\n",
    "            delta_means[i] = np.random.normal(0, init_scale, size=gmm.means_.shape)\n",
    "            weights[i] = gmm.weights_\n",
    "            delta_diag_prec[i] = np.random.normal(0, init_scale, size=delta_diag_prec[i].shape)\n",
    "            delta_param_prec[i] = np.random.normal(0, init_scale, size=delta_param_prec[i].shape)\n",
    "\n",
    "        p_weights = np.copy(weights)\n",
    "        p_delta_means = np.copy(delta_means)\n",
    "        p_delta_diag_prec = np.copy(delta_diag_prec)\n",
    "        p_delta_param_prec = np.copy(delta_param_prec)\n",
    "\n",
    "        g_weights = np.copy(weights[0])\n",
    "        g_delta_means = np.copy(delta_means[0])\n",
    "        g_delta_diag_prec = np.copy(delta_diag_prec[0])\n",
    "        g_delta_param_prec = np.copy(delta_param_prec[0])\n",
    "\n",
    "        for i in range(n_particles):\n",
    "            if log_likelihood_gmm_parametrized(p_weights[i], p_delta_means[i], p_delta_diag_prec[i], p_delta_param_prec[i]) > log_likelihood_gmm_parametrized(g_weights, g_delta_means, g_delta_diag_prec, g_delta_param_prec):\n",
    "                g_weights = np.copy(p_weights[i])\n",
    "                g_delta_means = np.copy(p_delta_means[i])\n",
    "                g_delta_diag_prec = np.copy(p_delta_diag_prec[i])\n",
    "                g_delta_param_prec = np.copy(p_delta_param_prec[i])\n",
    "        \n",
    "        f.write(f'Best initial log likelihood {log_likelihood_gmm_parametrized(g_weights, g_delta_means, g_delta_diag_prec, g_delta_param_prec)}\\n')\n",
    "        # Data for the plotting\n",
    "        best_loglikelihood_init = log_likelihood_gmm_parametrized(g_weights, g_delta_means, g_delta_diag_prec, g_delta_param_prec)\n",
    "        pso_best_loglikelihood = []\n",
    "\n",
    "        iter_n = -1\n",
    "        while (iter_n < max_i):\n",
    "\n",
    "            f.write(f'Iter {iter_n}\\n')\n",
    "\n",
    "            # reinit GMM here\n",
    "            # in case it is not the first iteration\n",
    "\n",
    "            gmm_reinit_list = []\n",
    "\n",
    "            # update personal best\n",
    "            for i in range(n_particles):\n",
    "                criterions[i] = log_likelihood_gmm_parametrized(weights[i], delta_means[i], delta_diag_prec[i], delta_param_prec[i])\n",
    "                particle_trajectories[i].append(criterions[i])\n",
    "                if log_likelihood_gmm_parametrized(p_weights[i], p_delta_means[i], p_delta_diag_prec[i], p_delta_param_prec[i]) < criterions[i]:\n",
    "                    p_weights[i] = np.copy(weights[i])\n",
    "                    p_delta_means[i] = np.copy(delta_means[i])\n",
    "                    p_delta_diag_prec[i] = np.copy(delta_diag_prec[i])\n",
    "                    p_delta_param_prec[i] = np.copy(p_delta_param_prec[i])\n",
    "        \n",
    "            g_new_weights = np.copy(g_weights)\n",
    "            g_new_delta_means = np.copy(g_delta_means)\n",
    "            g_new_delta_diag_prec = np.copy(g_delta_diag_prec)\n",
    "            g_new_delta_param_prec = np.copy(g_delta_param_prec)\n",
    "\n",
    "            # updating global best\n",
    "            for i in range(n_particles):\n",
    "                if log_likelihood_gmm_parametrized(p_weights[i], p_delta_means[i], p_delta_diag_prec[i], p_delta_param_prec[i]) > log_likelihood_gmm_parametrized(g_new_weights, g_new_delta_means, g_new_delta_diag_prec, g_new_delta_param_prec):\n",
    "                    g_new_weights = np.copy(p_weights[i])\n",
    "                    g_new_delta_means = np.copy(p_delta_means[i])\n",
    "                    g_new_delta_diag_prec = np.copy(p_delta_diag_prec[i])\n",
    "                    g_new_delta_param_prec = np.copy(p_delta_param_prec[i])\n",
    "                \n",
    "\n",
    "            # if there are no imprevements\n",
    "            delta_global = log_likelihood_gmm_parametrized(g_new_weights, g_new_delta_means, g_new_delta_diag_prec, g_new_delta_param_prec) - log_likelihood_gmm_parametrized(g_weights, g_delta_means, g_delta_diag_prec, g_delta_param_prec)\n",
    "            \n",
    "            if delta_global > 0:\n",
    "                g_weights = np.copy(g_new_weights)\n",
    "                g_delta_means = np.copy(g_new_delta_means)\n",
    "                g_delta_diag_prec = np.copy(g_new_delta_diag_prec)\n",
    "                g_delta_param_prec = np.copy(g_new_delta_param_prec)\n",
    "\n",
    "            iter_n += 1\n",
    "            \n",
    "            # PSO update\n",
    "            for j in range(n_particles):\n",
    "                c_1 = np.random.uniform(0, 1)\n",
    "                c_2 = np.random.uniform(0, 1)\n",
    "\n",
    "                # weights\n",
    "                # deleted v_weights * w to exclude probability that weights will go below zero\n",
    "                v_weights[j] = c_1 * r_1_w * (p_weights[j] - weights[j]) + c_2 * r_2_w * (g_weights - weights[j])\n",
    "                weights[j] += amplitude * v_weights[j]\n",
    "\n",
    "                v_delta_means[j] = c_1 * r_1 * (p_delta_means[j] - delta_means[j]) + c_2 * r_2 * (g_delta_means - delta_means[j])\n",
    "                delta_means[j] += amplitude * v_delta_means[j]\n",
    "\n",
    "                v_delta_diag_prec[j] = c_1 * r_1 * (p_delta_diag_prec[j] - delta_diag_prec[j]) + c_2 * r_2 * (g_delta_diag_prec - delta_diag_prec[j])\n",
    "                delta_diag_prec[j] += amplitude * v_delta_diag_prec[j]\n",
    "\n",
    "                v_delta_param_prec[j] = c_1 * r_1 * (p_delta_param_prec[j] - delta_param_prec[j]) + c_2 * r_2 * (g_delta_param_prec - delta_param_prec[j])\n",
    "                delta_param_prec[j] +=  amplitude * v_delta_param_prec[j]\n",
    "                \n",
    "            f.write(f'Best log likelihood {log_likelihood_gmm_parametrized(g_weights, g_delta_means, g_delta_diag_prec, g_delta_param_prec)}\\n')\n",
    "            pso_best_loglikelihood.append(log_likelihood_gmm_parametrized(g_weights, g_delta_means, g_delta_diag_prec, g_delta_param_prec))\n",
    "            f.write(f'Reinit gaussians\\n')\n",
    "\n",
    "            if iter_n % 10 == 0:\n",
    "                best_reinit = 0\n",
    "                for i in range(n_particles):\n",
    "                    score = reinit_gaussian(p_weights[i], p_delta_means[i], p_delta_diag_prec[i], p_delta_param_prec[i])\n",
    "                    if score > best_reinit:\n",
    "                        best_reinit = score\n",
    "\n",
    "                f.write(str(best_reinit) + '\\n')\n",
    "\n",
    "                if g_best_reinit < best_reinit:\n",
    "                    g_best_reinit = best_reinit\n",
    "\n",
    "            f.flush()\n",
    "\n",
    "        # gmm_large = GaussianMixture(n_components=10, covariance_type='full', init_params='random', n_init=300)\n",
    "        # gmm_large.fit(data)\n",
    "        # f.write(f'GMM large with 300 init Score {gmm.score(cloud_data)}')\n",
    "\n",
    "\n",
    "        large_gmm_init_score = 0\n",
    "    return pso_best_loglikelihood, best_loglikelihood_init, large_gmm_init_score, particle_trajectories, g_best_reinit, basic_score\n",
    "\n"
   ]
  },
  {
   "cell_type": "code",
   "execution_count": 12,
   "metadata": {},
   "outputs": [
    {
     "ename": "KeyboardInterrupt",
     "evalue": "",
     "output_type": "error",
     "traceback": [
      "\u001b[1;31m---------------------------------------------------------------------------\u001b[0m",
      "\u001b[1;31mKeyboardInterrupt\u001b[0m                         Traceback (most recent call last)",
      "\u001b[1;32md:\\Projects\\pso\\PSO_GMM\\gmm_pso_low_rank_add.ipynb Cell 17\u001b[0m in \u001b[0;36m<cell line: 19>\u001b[1;34m()\u001b[0m\n\u001b[0;32m     <a href='vscode-notebook-cell:/d%3A/Projects/pso/PSO_GMM/gmm_pso_low_rank_add.ipynb#X22sZmlsZQ%3D%3D?line=18'>19</a>\u001b[0m \u001b[39mfor\u001b[39;00m n \u001b[39min\u001b[39;00m \u001b[39mrange\u001b[39m(n_runs):\n\u001b[0;32m     <a href='vscode-notebook-cell:/d%3A/Projects/pso/PSO_GMM/gmm_pso_low_rank_add.ipynb#X22sZmlsZQ%3D%3D?line=19'>20</a>\u001b[0m     log_file_name \u001b[39m=\u001b[39m \u001b[39mf\u001b[39m\u001b[39m'\u001b[39m\u001b[39mpso_low_rank_parametrize_init_scale_\u001b[39m\u001b[39m{\u001b[39;00minit_scale\u001b[39m}\u001b[39;00m\u001b[39m_n_comp_\u001b[39m\u001b[39m{\u001b[39;00m\u001b[39m10\u001b[39m\u001b[39m}\u001b[39;00m\u001b[39m_ampl_\u001b[39m\u001b[39m{\u001b[39;00mampl\u001b[39m}\u001b[39;00m\u001b[39m_rank_\u001b[39m\u001b[39m{\u001b[39;00mrank\u001b[39m}\u001b[39;00m\u001b[39m.log\u001b[39m\u001b[39m'\u001b[39m\n\u001b[1;32m---> <a href='vscode-notebook-cell:/d%3A/Projects/pso/PSO_GMM/gmm_pso_low_rank_add.ipynb#X22sZmlsZQ%3D%3D?line=20'>21</a>\u001b[0m     pso_best_loglikelihood, best_loglikelihood_init, large_gmm_init_score, particle_trajectories, g_best_reinit, basic_score \u001b[39m=\u001b[39m run_experiment_delta_parametrize(cloud_data, log_file_name, n_components\u001b[39m=\u001b[39;49m\u001b[39m10\u001b[39;49m, amplitude\u001b[39m=\u001b[39;49mampl, rank\u001b[39m=\u001b[39;49mrank, init_scale\u001b[39m=\u001b[39;49minit_scale)\n\u001b[0;32m     <a href='vscode-notebook-cell:/d%3A/Projects/pso/PSO_GMM/gmm_pso_low_rank_add.ipynb#X22sZmlsZQ%3D%3D?line=21'>22</a>\u001b[0m     g_best_reinit_list\u001b[39m.\u001b[39mappend(g_best_reinit)\n\u001b[0;32m     <a href='vscode-notebook-cell:/d%3A/Projects/pso/PSO_GMM/gmm_pso_low_rank_add.ipynb#X22sZmlsZQ%3D%3D?line=22'>23</a>\u001b[0m     basic_score_list\u001b[39m.\u001b[39mappend(basic_score)\n",
      "\u001b[1;32md:\\Projects\\pso\\PSO_GMM\\gmm_pso_low_rank_add.ipynb Cell 17\u001b[0m in \u001b[0;36mrun_experiment_delta_parametrize\u001b[1;34m(data, log_file_name, n_components, amplitude, rank, init_scale)\u001b[0m\n\u001b[0;32m     <a href='vscode-notebook-cell:/d%3A/Projects/pso/PSO_GMM/gmm_pso_low_rank_add.ipynb#X22sZmlsZQ%3D%3D?line=34'>35</a>\u001b[0m \u001b[39m# one BIG GMM init\u001b[39;00m\n\u001b[0;32m     <a href='vscode-notebook-cell:/d%3A/Projects/pso/PSO_GMM/gmm_pso_low_rank_add.ipynb#X22sZmlsZQ%3D%3D?line=36'>37</a>\u001b[0m gmm \u001b[39m=\u001b[39m GaussianMixture(n_components\u001b[39m=\u001b[39mn_components, covariance_type\u001b[39m=\u001b[39m\u001b[39m'\u001b[39m\u001b[39mfull\u001b[39m\u001b[39m'\u001b[39m, init_params\u001b[39m=\u001b[39m\u001b[39m'\u001b[39m\u001b[39mrandom\u001b[39m\u001b[39m'\u001b[39m, n_init\u001b[39m=\u001b[39m\u001b[39m100\u001b[39m)\n\u001b[1;32m---> <a href='vscode-notebook-cell:/d%3A/Projects/pso/PSO_GMM/gmm_pso_low_rank_add.ipynb#X22sZmlsZQ%3D%3D?line=37'>38</a>\u001b[0m gmm\u001b[39m.\u001b[39;49mfit(data)\n\u001b[0;32m     <a href='vscode-notebook-cell:/d%3A/Projects/pso/PSO_GMM/gmm_pso_low_rank_add.ipynb#X22sZmlsZQ%3D%3D?line=38'>39</a>\u001b[0m basic_score \u001b[39m=\u001b[39m gmm\u001b[39m.\u001b[39mscore(data)\n\u001b[0;32m     <a href='vscode-notebook-cell:/d%3A/Projects/pso/PSO_GMM/gmm_pso_low_rank_add.ipynb#X22sZmlsZQ%3D%3D?line=39'>40</a>\u001b[0m f\u001b[39m.\u001b[39mwrite(\u001b[39mf\u001b[39m\u001b[39m'\u001b[39m\u001b[39mEM init \u001b[39m\u001b[39m{\u001b[39;00mbasic_score\u001b[39m}\u001b[39;00m\u001b[39m'\u001b[39m)\n",
      "File \u001b[1;32mc:\\Users\\kholk\\Envs\\ml_base\\lib\\site-packages\\sklearn\\mixture\\_base.py:200\u001b[0m, in \u001b[0;36mBaseMixture.fit\u001b[1;34m(self, X, y)\u001b[0m\n\u001b[0;32m    174\u001b[0m \u001b[39mdef\u001b[39;00m \u001b[39mfit\u001b[39m(\u001b[39mself\u001b[39m, X, y\u001b[39m=\u001b[39m\u001b[39mNone\u001b[39;00m):\n\u001b[0;32m    175\u001b[0m     \u001b[39m\"\"\"Estimate model parameters with the EM algorithm.\u001b[39;00m\n\u001b[0;32m    176\u001b[0m \n\u001b[0;32m    177\u001b[0m \u001b[39m    The method fits the model ``n_init`` times and sets the parameters with\u001b[39;00m\n\u001b[1;32m   (...)\u001b[0m\n\u001b[0;32m    198\u001b[0m \u001b[39m        The fitted mixture.\u001b[39;00m\n\u001b[0;32m    199\u001b[0m \u001b[39m    \"\"\"\u001b[39;00m\n\u001b[1;32m--> 200\u001b[0m     \u001b[39mself\u001b[39;49m\u001b[39m.\u001b[39;49mfit_predict(X, y)\n\u001b[0;32m    201\u001b[0m     \u001b[39mreturn\u001b[39;00m \u001b[39mself\u001b[39m\n",
      "File \u001b[1;32mc:\\Users\\kholk\\Envs\\ml_base\\lib\\site-packages\\sklearn\\mixture\\_base.py:264\u001b[0m, in \u001b[0;36mBaseMixture.fit_predict\u001b[1;34m(self, X, y)\u001b[0m\n\u001b[0;32m    261\u001b[0m \u001b[39mfor\u001b[39;00m n_iter \u001b[39min\u001b[39;00m \u001b[39mrange\u001b[39m(\u001b[39m1\u001b[39m, \u001b[39mself\u001b[39m\u001b[39m.\u001b[39mmax_iter \u001b[39m+\u001b[39m \u001b[39m1\u001b[39m):\n\u001b[0;32m    262\u001b[0m     prev_lower_bound \u001b[39m=\u001b[39m lower_bound\n\u001b[1;32m--> 264\u001b[0m     log_prob_norm, log_resp \u001b[39m=\u001b[39m \u001b[39mself\u001b[39;49m\u001b[39m.\u001b[39;49m_e_step(X)\n\u001b[0;32m    265\u001b[0m     \u001b[39mself\u001b[39m\u001b[39m.\u001b[39m_m_step(X, log_resp)\n\u001b[0;32m    266\u001b[0m     lower_bound \u001b[39m=\u001b[39m \u001b[39mself\u001b[39m\u001b[39m.\u001b[39m_compute_lower_bound(log_resp, log_prob_norm)\n",
      "File \u001b[1;32mc:\\Users\\kholk\\Envs\\ml_base\\lib\\site-packages\\sklearn\\mixture\\_base.py:321\u001b[0m, in \u001b[0;36mBaseMixture._e_step\u001b[1;34m(self, X)\u001b[0m\n\u001b[0;32m    305\u001b[0m \u001b[39mdef\u001b[39;00m \u001b[39m_e_step\u001b[39m(\u001b[39mself\u001b[39m, X):\n\u001b[0;32m    306\u001b[0m     \u001b[39m\"\"\"E step.\u001b[39;00m\n\u001b[0;32m    307\u001b[0m \n\u001b[0;32m    308\u001b[0m \u001b[39m    Parameters\u001b[39;00m\n\u001b[1;32m   (...)\u001b[0m\n\u001b[0;32m    319\u001b[0m \u001b[39m        the point of each sample in X.\u001b[39;00m\n\u001b[0;32m    320\u001b[0m \u001b[39m    \"\"\"\u001b[39;00m\n\u001b[1;32m--> 321\u001b[0m     log_prob_norm, log_resp \u001b[39m=\u001b[39m \u001b[39mself\u001b[39;49m\u001b[39m.\u001b[39;49m_estimate_log_prob_resp(X)\n\u001b[0;32m    322\u001b[0m     \u001b[39mreturn\u001b[39;00m np\u001b[39m.\u001b[39mmean(log_prob_norm), log_resp\n",
      "File \u001b[1;32mc:\\Users\\kholk\\Envs\\ml_base\\lib\\site-packages\\sklearn\\mixture\\_base.py:541\u001b[0m, in \u001b[0;36mBaseMixture._estimate_log_prob_resp\u001b[1;34m(self, X)\u001b[0m\n\u001b[0;32m    522\u001b[0m \u001b[39mdef\u001b[39;00m \u001b[39m_estimate_log_prob_resp\u001b[39m(\u001b[39mself\u001b[39m, X):\n\u001b[0;32m    523\u001b[0m     \u001b[39m\"\"\"Estimate log probabilities and responsibilities for each sample.\u001b[39;00m\n\u001b[0;32m    524\u001b[0m \n\u001b[0;32m    525\u001b[0m \u001b[39m    Compute the log probabilities, weighted log probabilities per\u001b[39;00m\n\u001b[1;32m   (...)\u001b[0m\n\u001b[0;32m    539\u001b[0m \u001b[39m        logarithm of the responsibilities\u001b[39;00m\n\u001b[0;32m    540\u001b[0m \u001b[39m    \"\"\"\u001b[39;00m\n\u001b[1;32m--> 541\u001b[0m     weighted_log_prob \u001b[39m=\u001b[39m \u001b[39mself\u001b[39;49m\u001b[39m.\u001b[39;49m_estimate_weighted_log_prob(X)\n\u001b[0;32m    542\u001b[0m     log_prob_norm \u001b[39m=\u001b[39m logsumexp(weighted_log_prob, axis\u001b[39m=\u001b[39m\u001b[39m1\u001b[39m)\n\u001b[0;32m    543\u001b[0m     \u001b[39mwith\u001b[39;00m np\u001b[39m.\u001b[39merrstate(under\u001b[39m=\u001b[39m\u001b[39m\"\u001b[39m\u001b[39mignore\u001b[39m\u001b[39m\"\u001b[39m):\n\u001b[0;32m    544\u001b[0m         \u001b[39m# ignore underflow\u001b[39;00m\n",
      "File \u001b[1;32mc:\\Users\\kholk\\Envs\\ml_base\\lib\\site-packages\\sklearn\\mixture\\_base.py:494\u001b[0m, in \u001b[0;36mBaseMixture._estimate_weighted_log_prob\u001b[1;34m(self, X)\u001b[0m\n\u001b[0;32m    483\u001b[0m \u001b[39mdef\u001b[39;00m \u001b[39m_estimate_weighted_log_prob\u001b[39m(\u001b[39mself\u001b[39m, X):\n\u001b[0;32m    484\u001b[0m     \u001b[39m\"\"\"Estimate the weighted log-probabilities, log P(X | Z) + log weights.\u001b[39;00m\n\u001b[0;32m    485\u001b[0m \n\u001b[0;32m    486\u001b[0m \u001b[39m    Parameters\u001b[39;00m\n\u001b[1;32m   (...)\u001b[0m\n\u001b[0;32m    492\u001b[0m \u001b[39m    weighted_log_prob : array, shape (n_samples, n_component)\u001b[39;00m\n\u001b[0;32m    493\u001b[0m \u001b[39m    \"\"\"\u001b[39;00m\n\u001b[1;32m--> 494\u001b[0m     \u001b[39mreturn\u001b[39;00m \u001b[39mself\u001b[39;49m\u001b[39m.\u001b[39;49m_estimate_log_prob(X) \u001b[39m+\u001b[39m \u001b[39mself\u001b[39m\u001b[39m.\u001b[39m_estimate_log_weights()\n",
      "File \u001b[1;32mc:\\Users\\kholk\\Envs\\ml_base\\lib\\site-packages\\sklearn\\mixture\\_gaussian_mixture.py:760\u001b[0m, in \u001b[0;36mGaussianMixture._estimate_log_prob\u001b[1;34m(self, X)\u001b[0m\n\u001b[0;32m    759\u001b[0m \u001b[39mdef\u001b[39;00m \u001b[39m_estimate_log_prob\u001b[39m(\u001b[39mself\u001b[39m, X):\n\u001b[1;32m--> 760\u001b[0m     \u001b[39mreturn\u001b[39;00m _estimate_log_gaussian_prob(\n\u001b[0;32m    761\u001b[0m         X, \u001b[39mself\u001b[39;49m\u001b[39m.\u001b[39;49mmeans_, \u001b[39mself\u001b[39;49m\u001b[39m.\u001b[39;49mprecisions_cholesky_, \u001b[39mself\u001b[39;49m\u001b[39m.\u001b[39;49mcovariance_type\n\u001b[0;32m    762\u001b[0m     )\n",
      "File \u001b[1;32mc:\\Users\\kholk\\Envs\\ml_base\\lib\\site-packages\\sklearn\\mixture\\_gaussian_mixture.py:427\u001b[0m, in \u001b[0;36m_estimate_log_gaussian_prob\u001b[1;34m(X, means, precisions_chol, covariance_type)\u001b[0m\n\u001b[0;32m    425\u001b[0m     log_prob \u001b[39m=\u001b[39m np\u001b[39m.\u001b[39mempty((n_samples, n_components))\n\u001b[0;32m    426\u001b[0m     \u001b[39mfor\u001b[39;00m k, (mu, prec_chol) \u001b[39min\u001b[39;00m \u001b[39menumerate\u001b[39m(\u001b[39mzip\u001b[39m(means, precisions_chol)):\n\u001b[1;32m--> 427\u001b[0m         y \u001b[39m=\u001b[39m np\u001b[39m.\u001b[39;49mdot(X, prec_chol) \u001b[39m-\u001b[39m np\u001b[39m.\u001b[39mdot(mu, prec_chol)\n\u001b[0;32m    428\u001b[0m         log_prob[:, k] \u001b[39m=\u001b[39m np\u001b[39m.\u001b[39msum(np\u001b[39m.\u001b[39msquare(y), axis\u001b[39m=\u001b[39m\u001b[39m1\u001b[39m)\n\u001b[0;32m    430\u001b[0m \u001b[39melif\u001b[39;00m covariance_type \u001b[39m==\u001b[39m \u001b[39m\"\u001b[39m\u001b[39mtied\u001b[39m\u001b[39m\"\u001b[39m:\n",
      "File \u001b[1;32m<__array_function__ internals>:180\u001b[0m, in \u001b[0;36mdot\u001b[1;34m(*args, **kwargs)\u001b[0m\n",
      "\u001b[1;31mKeyboardInterrupt\u001b[0m: "
     ]
    }
   ],
   "source": [
    "init_scale_range = [0.01, 0.0005]\n",
    "n_comp = [10]\n",
    "ampl_list = [0.1]\n",
    "\n",
    "# recipe for experiments: EM inti iter =100, high ampl (lr), 100 pso iters, compare with EM init 200 iter\n",
    "# note: low lr for big number of components, try rank = 3, 5, 7\n",
    "# Add best EM init with zero addition\n",
    "# add an csv logging\n",
    "# fix a bug with global best\n",
    "rank = 5\n",
    "n_runs = 5\n",
    "init_scale = 0.01\n",
    "init_scale = 0.05\n",
    "\n",
    "ampl = 0.1\n",
    "\n",
    "g_best_reinit_list = []\n",
    "basic_score_list = []\n",
    "for n in range(n_runs):\n",
    "    log_file_name = f'pso_low_rank_parametrize_init_scale_{init_scale}_n_comp_{10}_ampl_{ampl}_rank_{rank}.log'\n",
    "    pso_best_loglikelihood, best_loglikelihood_init, large_gmm_init_score, particle_trajectories, g_best_reinit, basic_score = run_experiment_delta_parametrize(cloud_data, log_file_name, n_components=10, amplitude=ampl, rank=rank, init_scale=init_scale)\n",
    "    g_best_reinit_list.append(g_best_reinit)\n",
    "    basic_score_list.append(basic_score)\n",
    "    final_score = pso_best_loglikelihood[-1]\n",
    "\n",
    "print('Best scattered reinit', np.mean(g_best_reinit_list), '+-' , np.std(g_best_reinit_list))\n",
    "print('Best EM init', np.mean(basic_score_list), '+-' , np.std(basic_score_list))\n"
   ]
  },
  {
   "cell_type": "markdown",
   "metadata": {},
   "source": [
    "### Experimenting on Breast Cancer dataset"
   ]
  },
  {
   "cell_type": "code",
   "execution_count": 27,
   "metadata": {},
   "outputs": [
    {
     "name": "stdout",
     "output_type": "stream",
     "text": [
      "N init 100 74.22707489636325 0.2958389267731283\n"
     ]
    }
   ],
   "source": [
    "n_components_list = [3, 5, 8, 10, 15, 20, 25]\n",
    "scores = []\n",
    "n_runs = 10\n",
    "\n",
    "# for n in range(n_runs):\n",
    "#     gmm_bc = GaussianMixture(n_components=10, covariance_type='full', n_init=300)\n",
    "#     gmm_bc = gmm_bc.fit(data_bc)\n",
    "#     scores.append(gmm_bc.score(data_bc))\n",
    "\n",
    "# print('N init 300', np.mean(scores), np.std(scores))\n",
    "\n",
    "for n in range(n_runs):\n",
    "    gmm_bc = GaussianMixture(n_components=10, init_params='random', covariance_type='full', n_init=100)\n",
    "    gmm_bc = gmm_bc.fit(data_bc)\n",
    "    scores.append(gmm_bc.score(data_bc))\n",
    "\n",
    "print('N init 100', np.mean(scores), np.std(scores))\n"
   ]
  },
  {
   "cell_type": "code",
   "execution_count": 8,
   "metadata": {},
   "outputs": [
    {
     "data": {
      "text/plain": [
       "74.2621077979399"
      ]
     },
     "execution_count": 8,
     "metadata": {},
     "output_type": "execute_result"
    }
   ],
   "source": [
    "gmm_bc = GaussianMixture(n_components=10, init_params='random', covariance_type='full', n_init=100)\n",
    "gmm_bc = gmm_bc.fit(data_bc)\n",
    "gmm_bc.score(data_bc)"
   ]
  },
  {
   "cell_type": "code",
   "execution_count": 15,
   "metadata": {},
   "outputs": [
    {
     "data": {
      "text/plain": [
       "'breast_cancer_pso_low_rank_parametrize_init_scale_0.003_n_comp_15_ampl_0.003_rank_10.log'"
      ]
     },
     "execution_count": 15,
     "metadata": {},
     "output_type": "execute_result"
    }
   ],
   "source": [
    "log_file_name"
   ]
  },
  {
   "cell_type": "code",
   "execution_count": 17,
   "metadata": {},
   "outputs": [
    {
     "name": "stdout",
     "output_type": "stream",
     "text": [
      "[64.59361355960428, 63.73920897296934, 63.0188242672728, 62.2902393427207, 61.59456434148814, 60.882113100840755, 60.16980699498362, 59.46469414992337, 58.76727139485888, 58.08163654322721, 57.40144917268593, 56.57068921302553, 55.908538430150415, 55.24679123428107, 54.58572761986928, 53.92738272646766, 53.27225292853626, 52.618002969535574, 51.96794963491328, 51.32392224132101, 50.68101983346345, 49.88008943197019, 49.241856916275935, 48.60718463472704, 47.975816275437914, 47.34616715244728, 46.713423979015516, 46.11468913290573, 45.48877320093142, 44.86363832049421, 44.24360112626026, 43.47982551751521, 42.85618414967468, 42.25820899404058, 41.64635601834687, 41.03621415169823, 40.429221007205776, 39.82920665196552, 39.26279703415516, 38.669230737912336, 38.07622553264989]\n"
     ]
    }
   ],
   "source": [
    "pso_best_loglikelihood, best_loglikelihood_init, large_gmm_init_score, particle_trajectories, g_best_reinit, basic_score = run_experiment_delta_parametrize(data_bc, log_file_name, n_components=10, amplitude=ampl, rank=rank, init_scale=init_scale)\n",
    "print(pso_best_loglikelihood)"
   ]
  },
  {
   "cell_type": "code",
   "execution_count": 21,
   "metadata": {},
   "outputs": [
    {
     "name": "stdout",
     "output_type": "stream",
     "text": [
      "Big EM reinit 74.46991773731926\n"
     ]
    }
   ],
   "source": [
    "\n",
    "n_runs = 5\n",
    "scores = []\n",
    "for n in range(n_runs):\n",
    "    gmm_bc = GaussianMixture(n_components=10, init_params='random', covariance_type='full', n_init=600)\n",
    "    gmm_bc = gmm_bc.fit(data_bc)\n",
    "    scores.append(gmm_bc.score(data_bc))\n",
    "\n",
    "print(f'Big EM reinit {np.mean(scores)}')"
   ]
  },
  {
   "cell_type": "code",
   "execution_count": 20,
   "metadata": {},
   "outputs": [
    {
     "name": "stdout",
     "output_type": "stream",
     "text": [
      "Best scattered reinit 75.7775823597028 +- 0.5485572037925159\n",
      "Best EM init 73.9567769159048 +- 0.34635314330498546\n"
     ]
    }
   ],
   "source": [
    "\n",
    "rank = 10\n",
    "n_runs = 5\n",
    "# more init scale\n",
    "init_scale = 0.003\n",
    "n_component = 10\n",
    "\n",
    "ampl = 0.003\n",
    "\n",
    "g_best_reinit_list = []\n",
    "basic_score_list = []\n",
    "for n in range(n_runs):\n",
    "    log_file_name = f'breast_cancer_pso_low_rank_parametrize_init_scale_{init_scale}_n_comp_{n_component}_ampl_{ampl}_rank_{rank}.log'\n",
    "    pso_best_loglikelihood, best_loglikelihood_init, large_gmm_init_score, particle_trajectories, g_best_reinit, basic_score = run_experiment_delta_parametrize(data_bc, log_file_name, n_components=n_component, amplitude=ampl, rank=rank, init_scale=init_scale)\n",
    "    g_best_reinit_list.append(g_best_reinit)\n",
    "    basic_score_list.append(basic_score)\n",
    "    final_score = pso_best_loglikelihood[-1]\n",
    "\n",
    "print('Best scattered reinit', np.mean(g_best_reinit_list), '+-' , np.std(g_best_reinit_list))\n",
    "print('Best EM init', np.mean(basic_score_list), '+-' , np.std(basic_score_list))\n"
   ]
  },
  {
   "cell_type": "code",
   "execution_count": 13,
   "metadata": {},
   "outputs": [
    {
     "data": {
      "text/plain": [
       "73.30267270173618"
      ]
     },
     "execution_count": 13,
     "metadata": {},
     "output_type": "execute_result"
    }
   ],
   "source": [
    "gmm_bc.score(data_bc)"
   ]
  },
  {
   "cell_type": "code",
   "execution_count": 57,
   "metadata": {},
   "outputs": [
    {
     "name": "stdout",
     "output_type": "stream",
     "text": [
      "run 0\n"
     ]
    },
    {
     "ename": "KeyboardInterrupt",
     "evalue": "",
     "output_type": "error",
     "traceback": [
      "\u001b[1;31m---------------------------------------------------------------------------\u001b[0m",
      "\u001b[1;31mKeyboardInterrupt\u001b[0m                         Traceback (most recent call last)",
      "\u001b[1;32md:\\Projects\\pso\\PSO_GMM\\gmm_pso_low_rank_add.ipynb Cell 21\u001b[0m in \u001b[0;36m<cell line: 14>\u001b[1;34m()\u001b[0m\n\u001b[0;32m     <a href='vscode-notebook-cell:/d%3A/Projects/pso/PSO_GMM/gmm_pso_low_rank_add.ipynb#X24sZmlsZQ%3D%3D?line=14'>15</a>\u001b[0m \u001b[39mprint\u001b[39m(\u001b[39m'\u001b[39m\u001b[39mrun\u001b[39m\u001b[39m'\u001b[39m, n)\n\u001b[0;32m     <a href='vscode-notebook-cell:/d%3A/Projects/pso/PSO_GMM/gmm_pso_low_rank_add.ipynb#X24sZmlsZQ%3D%3D?line=15'>16</a>\u001b[0m log_file_name \u001b[39m=\u001b[39m \u001b[39mf\u001b[39m\u001b[39m'\u001b[39m\u001b[39mpso_low_rank_parametrize_init_scale_\u001b[39m\u001b[39m{\u001b[39;00minit_scale\u001b[39m}\u001b[39;00m\u001b[39m_n_comp_\u001b[39m\u001b[39m{\u001b[39;00m\u001b[39m10\u001b[39m\u001b[39m}\u001b[39;00m\u001b[39m_ampl_\u001b[39m\u001b[39m{\u001b[39;00mampl\u001b[39m}\u001b[39;00m\u001b[39m_rank_\u001b[39m\u001b[39m{\u001b[39;00mrank\u001b[39m}\u001b[39;00m\u001b[39m.log\u001b[39m\u001b[39m'\u001b[39m\n\u001b[1;32m---> <a href='vscode-notebook-cell:/d%3A/Projects/pso/PSO_GMM/gmm_pso_low_rank_add.ipynb#X24sZmlsZQ%3D%3D?line=16'>17</a>\u001b[0m pso_best_loglikelihood, best_loglikelihood_init, large_gmm_init_score, particle_trajectories \u001b[39m=\u001b[39m run_experiment_delta_parametrize(cloud_data, log_file_name, n_components\u001b[39m=\u001b[39;49m\u001b[39m10\u001b[39;49m, amplitude\u001b[39m=\u001b[39;49mampl, rank\u001b[39m=\u001b[39;49mrank, init_scale\u001b[39m=\u001b[39;49minit_scale)\n\u001b[0;32m     <a href='vscode-notebook-cell:/d%3A/Projects/pso/PSO_GMM/gmm_pso_low_rank_add.ipynb#X24sZmlsZQ%3D%3D?line=17'>18</a>\u001b[0m final_score\u001b[39m.\u001b[39mappend(pso_best_loglikelihood[\u001b[39m-\u001b[39m\u001b[39m1\u001b[39m])\n",
      "\u001b[1;32md:\\Projects\\pso\\PSO_GMM\\gmm_pso_low_rank_add.ipynb Cell 21\u001b[0m in \u001b[0;36mrun_experiment_delta_parametrize\u001b[1;34m(data, log_file_name, n_components, amplitude, rank, init_scale)\u001b[0m\n\u001b[0;32m    <a href='vscode-notebook-cell:/d%3A/Projects/pso/PSO_GMM/gmm_pso_low_rank_add.ipynb#X24sZmlsZQ%3D%3D?line=137'>138</a>\u001b[0m criterions[i] \u001b[39m=\u001b[39m log_likelihood_gmm_parametrized(weights[i], delta_means[i], delta_diag_prec[i], delta_param_prec[i])\n\u001b[0;32m    <a href='vscode-notebook-cell:/d%3A/Projects/pso/PSO_GMM/gmm_pso_low_rank_add.ipynb#X24sZmlsZQ%3D%3D?line=138'>139</a>\u001b[0m particle_trajectories[i]\u001b[39m.\u001b[39mappend(criterions[i])\n\u001b[1;32m--> <a href='vscode-notebook-cell:/d%3A/Projects/pso/PSO_GMM/gmm_pso_low_rank_add.ipynb#X24sZmlsZQ%3D%3D?line=139'>140</a>\u001b[0m \u001b[39mif\u001b[39;00m log_likelihood_gmm_parametrized(p_weights[i], p_delta_means[i], p_delta_diag_prec[i], p_delta_param_prec[i]) \u001b[39m<\u001b[39m criterions[i]:\n\u001b[0;32m    <a href='vscode-notebook-cell:/d%3A/Projects/pso/PSO_GMM/gmm_pso_low_rank_add.ipynb#X24sZmlsZQ%3D%3D?line=140'>141</a>\u001b[0m     p_weights[i] \u001b[39m=\u001b[39m np\u001b[39m.\u001b[39mcopy(weights[i])\n\u001b[0;32m    <a href='vscode-notebook-cell:/d%3A/Projects/pso/PSO_GMM/gmm_pso_low_rank_add.ipynb#X24sZmlsZQ%3D%3D?line=141'>142</a>\u001b[0m     p_delta_means[i] \u001b[39m=\u001b[39m np\u001b[39m.\u001b[39mcopy(delta_means[i])\n",
      "\u001b[1;32md:\\Projects\\pso\\PSO_GMM\\gmm_pso_low_rank_add.ipynb Cell 21\u001b[0m in \u001b[0;36mrun_experiment_delta_parametrize.<locals>.log_likelihood_gmm_parametrized\u001b[1;34m(weights, delta_means, delta_diag, delta_rank_params)\u001b[0m\n\u001b[0;32m     <a href='vscode-notebook-cell:/d%3A/Projects/pso/PSO_GMM/gmm_pso_low_rank_add.ipynb#X24sZmlsZQ%3D%3D?line=85'>86</a>\u001b[0m gmm_init\u001b[39m.\u001b[39mmeans_ \u001b[39m=\u001b[39m means\n\u001b[0;32m     <a href='vscode-notebook-cell:/d%3A/Projects/pso/PSO_GMM/gmm_pso_low_rank_add.ipynb#X24sZmlsZQ%3D%3D?line=86'>87</a>\u001b[0m gmm_init\u001b[39m.\u001b[39mprecisions_cholesky_ \u001b[39m=\u001b[39m cholesky\n\u001b[1;32m---> <a href='vscode-notebook-cell:/d%3A/Projects/pso/PSO_GMM/gmm_pso_low_rank_add.ipynb#X24sZmlsZQ%3D%3D?line=87'>88</a>\u001b[0m \u001b[39mreturn\u001b[39;00m gmm_init\u001b[39m.\u001b[39;49mscore(data)\n",
      "File \u001b[1;32mc:\\Users\\kholk\\Envs\\ml_base\\lib\\site-packages\\sklearn\\mixture\\_base.py:382\u001b[0m, in \u001b[0;36mBaseMixture.score\u001b[1;34m(self, X, y)\u001b[0m\n\u001b[0;32m    365\u001b[0m \u001b[39mdef\u001b[39;00m \u001b[39mscore\u001b[39m(\u001b[39mself\u001b[39m, X, y\u001b[39m=\u001b[39m\u001b[39mNone\u001b[39;00m):\n\u001b[0;32m    366\u001b[0m     \u001b[39m\"\"\"Compute the per-sample average log-likelihood of the given data X.\u001b[39;00m\n\u001b[0;32m    367\u001b[0m \n\u001b[0;32m    368\u001b[0m \u001b[39m    Parameters\u001b[39;00m\n\u001b[1;32m   (...)\u001b[0m\n\u001b[0;32m    380\u001b[0m \u001b[39m        Log-likelihood of `X` under the Gaussian mixture model.\u001b[39;00m\n\u001b[0;32m    381\u001b[0m \u001b[39m    \"\"\"\u001b[39;00m\n\u001b[1;32m--> 382\u001b[0m     \u001b[39mreturn\u001b[39;00m \u001b[39mself\u001b[39;49m\u001b[39m.\u001b[39;49mscore_samples(X)\u001b[39m.\u001b[39mmean()\n",
      "File \u001b[1;32mc:\\Users\\kholk\\Envs\\ml_base\\lib\\site-packages\\sklearn\\mixture\\_base.py:363\u001b[0m, in \u001b[0;36mBaseMixture.score_samples\u001b[1;34m(self, X)\u001b[0m\n\u001b[0;32m    360\u001b[0m check_is_fitted(\u001b[39mself\u001b[39m)\n\u001b[0;32m    361\u001b[0m X \u001b[39m=\u001b[39m \u001b[39mself\u001b[39m\u001b[39m.\u001b[39m_validate_data(X, reset\u001b[39m=\u001b[39m\u001b[39mFalse\u001b[39;00m)\n\u001b[1;32m--> 363\u001b[0m \u001b[39mreturn\u001b[39;00m logsumexp(\u001b[39mself\u001b[39;49m\u001b[39m.\u001b[39;49m_estimate_weighted_log_prob(X), axis\u001b[39m=\u001b[39;49m\u001b[39m1\u001b[39;49m)\n",
      "File \u001b[1;32mc:\\Users\\kholk\\Envs\\ml_base\\lib\\site-packages\\scipy\\special\\_logsumexp.py:99\u001b[0m, in \u001b[0;36mlogsumexp\u001b[1;34m(a, axis, b, keepdims, return_sign)\u001b[0m\n\u001b[0;32m     96\u001b[0m         a \u001b[39m=\u001b[39m a \u001b[39m+\u001b[39m \u001b[39m0.\u001b[39m  \u001b[39m# promote to at least float\u001b[39;00m\n\u001b[0;32m     97\u001b[0m         a[b \u001b[39m==\u001b[39m \u001b[39m0\u001b[39m] \u001b[39m=\u001b[39m \u001b[39m-\u001b[39mnp\u001b[39m.\u001b[39minf\n\u001b[1;32m---> 99\u001b[0m a_max \u001b[39m=\u001b[39m np\u001b[39m.\u001b[39;49mamax(a, axis\u001b[39m=\u001b[39;49maxis, keepdims\u001b[39m=\u001b[39;49m\u001b[39mTrue\u001b[39;49;00m)\n\u001b[0;32m    101\u001b[0m \u001b[39mif\u001b[39;00m a_max\u001b[39m.\u001b[39mndim \u001b[39m>\u001b[39m \u001b[39m0\u001b[39m:\n\u001b[0;32m    102\u001b[0m     a_max[\u001b[39m~\u001b[39mnp\u001b[39m.\u001b[39misfinite(a_max)] \u001b[39m=\u001b[39m \u001b[39m0\u001b[39m\n",
      "File \u001b[1;32m<__array_function__ internals>:180\u001b[0m, in \u001b[0;36mamax\u001b[1;34m(*args, **kwargs)\u001b[0m\n",
      "File \u001b[1;32mc:\\Users\\kholk\\Envs\\ml_base\\lib\\site-packages\\numpy\\core\\fromnumeric.py:2791\u001b[0m, in \u001b[0;36mamax\u001b[1;34m(a, axis, out, keepdims, initial, where)\u001b[0m\n\u001b[0;32m   2675\u001b[0m \u001b[39m@array_function_dispatch\u001b[39m(_amax_dispatcher)\n\u001b[0;32m   2676\u001b[0m \u001b[39mdef\u001b[39;00m \u001b[39mamax\u001b[39m(a, axis\u001b[39m=\u001b[39m\u001b[39mNone\u001b[39;00m, out\u001b[39m=\u001b[39m\u001b[39mNone\u001b[39;00m, keepdims\u001b[39m=\u001b[39mnp\u001b[39m.\u001b[39m_NoValue, initial\u001b[39m=\u001b[39mnp\u001b[39m.\u001b[39m_NoValue,\n\u001b[0;32m   2677\u001b[0m          where\u001b[39m=\u001b[39mnp\u001b[39m.\u001b[39m_NoValue):\n\u001b[0;32m   2678\u001b[0m     \u001b[39m\"\"\"\u001b[39;00m\n\u001b[0;32m   2679\u001b[0m \u001b[39m    Return the maximum of an array or maximum along an axis.\u001b[39;00m\n\u001b[0;32m   2680\u001b[0m \n\u001b[1;32m   (...)\u001b[0m\n\u001b[0;32m   2789\u001b[0m \u001b[39m    5\u001b[39;00m\n\u001b[0;32m   2790\u001b[0m \u001b[39m    \"\"\"\u001b[39;00m\n\u001b[1;32m-> 2791\u001b[0m     \u001b[39mreturn\u001b[39;00m _wrapreduction(a, np\u001b[39m.\u001b[39;49mmaximum, \u001b[39m'\u001b[39;49m\u001b[39mmax\u001b[39;49m\u001b[39m'\u001b[39;49m, axis, \u001b[39mNone\u001b[39;49;00m, out,\n\u001b[0;32m   2792\u001b[0m                           keepdims\u001b[39m=\u001b[39;49mkeepdims, initial\u001b[39m=\u001b[39;49minitial, where\u001b[39m=\u001b[39;49mwhere)\n",
      "File \u001b[1;32mc:\\Users\\kholk\\Envs\\ml_base\\lib\\site-packages\\numpy\\core\\fromnumeric.py:86\u001b[0m, in \u001b[0;36m_wrapreduction\u001b[1;34m(obj, ufunc, method, axis, dtype, out, **kwargs)\u001b[0m\n\u001b[0;32m     83\u001b[0m         \u001b[39melse\u001b[39;00m:\n\u001b[0;32m     84\u001b[0m             \u001b[39mreturn\u001b[39;00m reduction(axis\u001b[39m=\u001b[39maxis, out\u001b[39m=\u001b[39mout, \u001b[39m*\u001b[39m\u001b[39m*\u001b[39mpasskwargs)\n\u001b[1;32m---> 86\u001b[0m \u001b[39mreturn\u001b[39;00m ufunc\u001b[39m.\u001b[39;49mreduce(obj, axis, dtype, out, \u001b[39m*\u001b[39;49m\u001b[39m*\u001b[39;49mpasskwargs)\n",
      "\u001b[1;31mKeyboardInterrupt\u001b[0m: "
     ]
    }
   ],
   "source": [
    "\n",
    "# recipe for experiments: EM inti iter =100, high ampl (lr), 100 pso iters, compare with EM init 200 iter\n",
    "# note: low lr for big number of components, try rank = 3, 5, 7\n",
    "# Add best EM init with zero addition\n",
    "# add an csv logging\n",
    "# fix a bug with global best\n",
    "\n",
    "rank = 3\n",
    "n_runs = 5\n",
    "init_scale = 0.003\n",
    "n_comp = 10\n",
    "ampl = 0.1\n",
    "final_score = []\n",
    "\n",
    "for n in range(n_runs):\n",
    "    print('run', n)\n",
    "    log_file_name = f'pso_low_rank_parametrize_init_scale_{init_scale}_n_comp_{10}_ampl_{ampl}_rank_{rank}.log'\n",
    "    pso_best_loglikelihood, best_loglikelihood_init, large_gmm_init_score, particle_trajectories = run_experiment_delta_parametrize(cloud_data, log_file_name, n_components=10, amplitude=ampl, rank=rank, init_scale=init_scale)\n",
    "    final_score.append(pso_best_loglikelihood[-1])"
   ]
  },
  {
   "cell_type": "markdown",
   "metadata": {},
   "source": [
    "### LandSat Satelite experimnets"
   ]
  },
  {
   "cell_type": "code",
   "execution_count": 6,
   "metadata": {},
   "outputs": [
    {
     "data": {
      "text/plain": [
       "(6435, 36)"
      ]
     },
     "execution_count": 6,
     "metadata": {},
     "output_type": "execute_result"
    }
   ],
   "source": [
    "data_sat.shape"
   ]
  },
  {
   "cell_type": "code",
   "execution_count": 13,
   "metadata": {},
   "outputs": [
    {
     "data": {
      "text/plain": [
       "array([0.81538462, 0.8       , 0.77011494, 0.50413223, 0.69230769,\n",
       "       0.68181818, 0.58947368, 0.390625  , 0.6875    , 0.72815534,\n",
       "       0.54736842, 0.421875  , 0.95384615, 0.9       , 0.87368421,\n",
       "       0.592     , 0.8125    , 0.82524272, 0.71578947, 0.4375    ,\n",
       "       0.69230769, 0.73786408, 0.56842105, 0.40625   , 0.96923077,\n",
       "       0.95192308, 0.93333333, 0.6       , 0.75384615, 0.91262136,\n",
       "       0.82105263, 0.5546875 , 0.69230769, 0.77669903, 0.66315789,\n",
       "       0.453125  ])"
      ]
     },
     "execution_count": 13,
     "metadata": {},
     "output_type": "execute_result"
    }
   ],
   "source": [
    "data_sat[0, :]"
   ]
  },
  {
   "cell_type": "code",
   "execution_count": 14,
   "metadata": {},
   "outputs": [
    {
     "name": "stderr",
     "output_type": "stream",
     "text": [
      "c:\\Users\\kholk\\envs\\ml_base\\lib\\site-packages\\sklearn\\mixture\\_base.py:286: ConvergenceWarning: Initialization 1 did not converge. Try different init parameters, or increase max_iter, tol or check for degenerate data.\n",
      "  warnings.warn(\n"
     ]
    },
    {
     "data": {
      "image/png": "[encoded data removed]",
      "text/plain": [
       "<Figure size 432x288 with 1 Axes>"
      ]
     },
     "metadata": {
      "needs_background": "light"
     },
     "output_type": "display_data"
    }
   ],
   "source": [
    "n_components = [10, 25, 50]\n",
    "scores = []\n",
    "for n in n_components:\n",
    "    gmm_landsat = GaussianMixture(n_components=n, init_params='random', covariance_type='full')\n",
    "    gmm_landsat = gmm_landsat.fit(data_sat)\n",
    "    scores.append(gmm_landsat.score(data_sat))\n",
    "\n",
    "plt.plot(n_components, scores)\n",
    "plt.show()"
   ]
  },
  {
   "cell_type": "code",
   "execution_count": null,
   "metadata": {},
   "outputs": [],
   "source": [
    "init_scale_range = [0.01, 0.0005]\n",
    "n_comp = [10]\n",
    "ampl_list = [0.1]\n",
    "\n",
    "# recipe for experiments: EM inti iter =100, high ampl (lr), 100 pso iters, compare with EM init 200 iter\n",
    "# note: low lr for big number of components, try rank = 3, 5, 7\n",
    "# Add best EM init with zero addition\n",
    "# add an csv logging\n",
    "# fix a bug with global best\n",
    "rank = 5\n",
    "n_runs = 5\n",
    "init_scale = 0.01\n",
    "init_scale = 0.05\n",
    "\n",
    "ampl = 0.1\n",
    "\n",
    "g_best_reinit_list = []\n",
    "basic_score_list = []\n",
    "for n in range(n_runs):\n",
    "    log_file_name = f'landsat_low_rank_parametrize_init_scale_{init_scale}_n_comp_{10}_ampl_{ampl}_rank_{rank}.log'\n",
    "    pso_best_loglikelihood, best_loglikelihood_init, large_gmm_init_score, particle_trajectories, g_best_reinit, basic_score = run_experiment_delta_parametrize(cloud_data, log_file_name, n_components=10, amplitude=ampl, rank=rank, init_scale=init_scale)\n",
    "    g_best_reinit_list.append(g_best_reinit)\n",
    "    basic_score_list.append(basic_score)\n",
    "    final_score = pso_best_loglikelihood[-1]\n",
    "\n",
    "print('Best scattered reinit', np.mean(g_best_reinit_list), '+-' , np.std(g_best_reinit_list))\n",
    "print('Best EM init', np.mean(basic_score_list), '+-' , np.std(basic_score_list))\n"
   ]
  }
 ],
 "metadata": {
  "kernelspec": {
   "display_name": "Python 3.8.6 ('ml_base')",
   "language": "python",
   "name": "python3"
  },
  "language_info": {
   "codemirror_mode": {
    "name": "ipython",
    "version": 3
   },
   "file_extension": ".py",
   "mimetype": "text/x-python",
   "name": "python",
   "nbconvert_exporter": "python",
   "pygments_lexer": "ipython3",
   "version": "3.8.6"
  },
  "orig_nbformat": 4,
  "vscode": {
   "interpreter": {
    "hash": "9bfb2d55de37064be05f21953ecbbe4c1eff451757a1067937cd706768d7c377"
   }
  }
 },
 "nbformat": 4,
 "nbformat_minor": 2
}
